{
 "cells": [
  {
   "cell_type": "markdown",
   "id": "15a47377",
   "metadata": {},
   "source": [
    "## Import required libraries"
   ]
  },
  {
   "cell_type": "code",
   "execution_count": 2,
   "id": "bd333069",
   "metadata": {},
   "outputs": [],
   "source": [
    "import pandas as pd\n",
    "import numpy as np\n",
    "\n",
    "import yfinance as yf\n",
    "#Fix for yahoo finance integer error\n",
    "yf.pdr_override() \n",
    "\n",
    "\n",
    "import datetime as dt\n",
    "import matplotlib.pyplot as plt\n",
    "from pandas_datareader import data as pdr\n"
   ]
  },
  {
   "cell_type": "markdown",
   "id": "9b8c6fae",
   "metadata": {},
   "source": [
    "## Problem statement \n",
    "\n",
    "Start by generating 2 arrays - we are looking to find the volaility using uneployment rates\n",
    "<br>We want monthly data from 2005 till now"
   ]
  },
  {
   "cell_type": "code",
   "execution_count": 148,
   "id": "fc61ff7c",
   "metadata": {},
   "outputs": [
    {
     "data": {
      "text/plain": [
       "0      5.3\n",
       "1      5.4\n",
       "2      5.2\n",
       "3      5.2\n",
       "4      5.1\n",
       "      ... \n",
       "211    3.7\n",
       "212    3.5\n",
       "213    3.7\n",
       "214    3.6\n",
       "215    3.5\n",
       "Name: UnRate, Length: 216, dtype: float64"
      ]
     },
     "execution_count": 148,
     "metadata": {},
     "output_type": "execute_result"
    }
   ],
   "source": [
    "#unemployment data array\n",
    "unemp   = pd.read_csv(r'C:\\Users\\nik10\\Desktop\\iCloud new\\Self development\\Quant\\Projects\\Gradient Descent using Unemployment Rate & Vix/UNRATE.csv')\n",
    "unemp = unemp[(unemp['DATE'] >= '2005-01-01') & (unemp['DATE'] <= '2022-12-01')].reset_index(drop=True)\n",
    "unemp = unemp.rename({'DATE': 'Date','UNRATE':'UnRate'}, axis=1)\n",
    "unemp = unemp.UnRate\n",
    "unemp\n"
   ]
  },
  {
   "cell_type": "code",
   "execution_count": 150,
   "id": "7683e74d",
   "metadata": {},
   "outputs": [
    {
     "name": "stdout",
     "output_type": "stream",
     "text": [
      "[*********************100%***********************]  1 of 1 completed\n"
     ]
    },
    {
     "data": {
      "text/plain": [
       "0      13.438000\n",
       "1      11.708947\n",
       "2      13.126364\n",
       "3      14.459048\n",
       "4      13.967619\n",
       "         ...    \n",
       "211    22.169565\n",
       "212    27.406190\n",
       "213    30.005714\n",
       "214    23.436191\n",
       "215    21.784286\n",
       "Name: Close, Length: 216, dtype: float64"
      ]
     },
     "execution_count": 150,
     "metadata": {},
     "output_type": "execute_result"
    }
   ],
   "source": [
    "#Monthly vix array\n",
    "end = dt.datetime.now()\n",
    "start = dt.datetime(2005,1,1) \n",
    "vix = pdr.get_data_yahoo('^VIX',start, end)\n",
    "\n",
    "#Get monthly close average\n",
    "vix = vix.groupby(pd.Grouper(freq='MS'))['Close'].mean()\n",
    "\n",
    "#Convert to df, reset index, adjust time and select range\n",
    "vix = pd.DataFrame(vix, columns=['Close']).reset_index(drop=False)\n",
    "#vix['Date'] = vix['Date'].dt.strftime('%Y-%m-%d')\n",
    "vix = vix[(vix['Date'] >= '2005-01-01') & (vix['Date'] <= '2022-12-01')]\n",
    "\n",
    "#Select just Close column\n",
    "vix = vix.Close\n",
    "\n",
    "#pd.merge(unemp, vix, on='Date', how = 'inner') - merge vix and index under one dataframe if needed\n",
    "vix"
   ]
  },
  {
   "cell_type": "markdown",
   "id": "a4fc4ebb",
   "metadata": {},
   "source": [
    "## Plotting The data"
   ]
  },
  {
   "cell_type": "code",
   "execution_count": 200,
   "id": "f0c6987a",
   "metadata": {},
   "outputs": [
    {
     "data": {
      "image/png": "[encoded data removed]",
      "text/plain": [
       "<Figure size 640x480 with 1 Axes>"
      ]
     },
     "metadata": {},
     "output_type": "display_data"
    }
   ],
   "source": [
    "plt.scatter(unemp,vix,  marker='X', c='r')\n",
    "plt.title(\"Vix to Unemployment\")\n",
    "# Set the y-axis label\n",
    "plt.xlabel('Unemployment (%)')\n",
    "# Set the x-axis label\n",
    "plt.ylabel('^Vix Index')\n",
    "plt.show()"
   ]
  },
  {
   "cell_type": "markdown",
   "id": "4dd35c6d",
   "metadata": {},
   "source": [
    "## Model the function for linear regression\n",
    "Model linear regression where Unemployment rate is the target \n",
    "<br>\n",
    "$x$ - unemployment (%)\n",
    "<br>\n",
    "$y$ - ^vix index\n",
    "<br>\n",
    "Training example targets and input: $x$ and $y$ as  `x_i`, `y_i`\n",
    "<br> $y^{(i)}$ notation is $i$ training example\n",
    "<br> $m$ - number of training examples\n",
    "<br>Unemployment is one of input variables as  $x^{(i)}$\n",
    "<br> $w$ - Gradient of linear regression function (model parameter 1)\n",
    "<br> $b$ - Constant of linear regression function (model parameter 2)\n",
    "<br> Regression function - $f_{w,b}(x^{(i)})= w*x^{(i)} + b$  "
   ]
  },
  {
   "cell_type": "code",
   "execution_count": 163,
   "id": "57004525",
   "metadata": {},
   "outputs": [
    {
     "name": "stdout",
     "output_type": "stream",
     "text": [
      "Total number of training examples is: 216\n"
     ]
    }
   ],
   "source": [
    "x_train = unemp.to_numpy()\n",
    "y_train = vix.to_numpy()\n",
    "#print(f\"x_train = {x_train}\") - use to check\n",
    "#print(f\"y_train = {y_train}\")\n",
    "#number of training exampels\n",
    "m = len(x_train)\n",
    "print(f\"Total number of training examples is: {m}\")"
   ]
  },
  {
   "cell_type": "code",
   "execution_count": 160,
   "id": "d4c4a459",
   "metadata": {},
   "outputs": [
    {
     "name": "stdout",
     "output_type": "stream",
     "text": [
      "(x^(1), y^(1)) = (5.4, 11.708947482861971)\n"
     ]
    }
   ],
   "source": [
    "#check that training example responds to index\n",
    "i = 1\n",
    "\n",
    "x_i = x_train[i]\n",
    "y_i = y_train[i]\n",
    "print(f\"(x^({i}), y^({i})) = ({x_i}, {y_i})\")"
   ]
  },
  {
   "cell_type": "code",
   "execution_count": 197,
   "id": "ab2ce9cd",
   "metadata": {},
   "outputs": [],
   "source": [
    "w = 1\n",
    "b = 10\n",
    "\n",
    "def compute_model_output(x, w, b):\n",
    "    #main computation for linear regression - input x and w,b as model parameters, y as target value\n",
    "    m = x.shape[0]\n",
    "    f_wb = np.zeros(m)\n",
    "    for i in range(m):\n",
    "        f_wb[i] = w * x[i] + b\n",
    "    return f_wb"
   ]
  },
  {
   "cell_type": "code",
   "execution_count": 199,
   "id": "0074290e",
   "metadata": {},
   "outputs": [
    {
     "data": {
      "text/plain": [
       "Text(0.5, 0, 'Unemployment')"
      ]
     },
     "execution_count": 199,
     "metadata": {},
     "output_type": "execute_result"
    },
    {
     "data": {
      "image/png": "[encoded data removed]",
      "text/plain": [
       "<Figure size 640x480 with 1 Axes>"
      ]
     },
     "metadata": {},
     "output_type": "display_data"
    }
   ],
   "source": [
    "tmp_f_wb = compute_model_output(x_train, w, b,)\n",
    "\n",
    "# Plot our model prediction\n",
    "plt.plot(x_train,tmp_f_wb, c='b',label='Our Prediction')\n",
    "\n",
    "# Plot the data points\n",
    "plt.scatter(x_train, y_train, marker='x', c='r',label='Actual Values')\n",
    "\n",
    "# Set the y-axis label\n",
    "plt.ylabel('Vix')\n",
    "# Set the x-axis label\n",
    "plt.xlabel('Unemployment')"
   ]
  },
  {
   "cell_type": "markdown",
   "id": "ffb76e19",
   "metadata": {},
   "source": [
    "## Manual prediction\n",
    "<br> simple test to check that regression works"
   ]
  },
  {
   "cell_type": "code",
   "execution_count": 203,
   "id": "334dc264",
   "metadata": {},
   "outputs": [
    {
     "name": "stdout",
     "output_type": "stream",
     "text": [
      "20 \n"
     ]
    }
   ],
   "source": [
    "x_i = 10\n",
    "vix_prediction = w * x_i + b    \n",
    "\n",
    "print(f\"{vix_prediction:.0f} \")"
   ]
  },
  {
   "cell_type": "code",
   "execution_count": null,
   "id": "1cd6cf52",
   "metadata": {},
   "outputs": [],
   "source": []
  }
 ],
 "metadata": {
  "kernelspec": {
   "display_name": "Python 3 (ipykernel)",
   "language": "python",
   "name": "python3"
  },
  "language_info": {
   "codemirror_mode": {
    "name": "ipython",
    "version": 3
   },
   "file_extension": ".py",
   "mimetype": "text/x-python",
   "name": "python",
   "nbconvert_exporter": "python",
   "pygments_lexer": "ipython3",
   "version": "3.9.13"
  }
 },
 "nbformat": 4,
 "nbformat_minor": 5
}
