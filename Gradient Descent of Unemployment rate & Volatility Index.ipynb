{
 "cells": [
  {
   "cell_type": "markdown",
   "id": "5014cd8e",
   "metadata": {},
   "source": [
    "## Import required libraries"
   ]
  },
  {
   "cell_type": "code",
   "execution_count": 1,
   "id": "86211de9",
   "metadata": {},
   "outputs": [],
   "source": [
    "import pandas as pd\n",
    "import numpy as np\n",
    "\n",
    "import yfinance as yf\n",
    "#Fix for yahoo finance integer error\n",
    "yf.pdr_override() \n",
    "\n",
    "\n",
    "import datetime as dt\n",
    "import matplotlib.pyplot as plt\n",
    "from pandas_datareader import data as pdr\n"
   ]
  },
  {
   "cell_type": "markdown",
   "id": "f6086dff",
   "metadata": {},
   "source": [
    "## Problem statement \n",
    "\n",
    "Start by generating 2 arrays - we are looking to find the volaility using uneployment rates\n",
    "<br>We want monthly data from 2005 till now"
   ]
  },
  {
   "cell_type": "code",
   "execution_count": 2,
   "id": "0983a054",
   "metadata": {},
   "outputs": [
    {
     "data": {
      "text/plain": [
       "0      5.3\n",
       "1      5.4\n",
       "2      5.2\n",
       "3      5.2\n",
       "4      5.1\n",
       "      ... \n",
       "211    3.7\n",
       "212    3.5\n",
       "213    3.7\n",
       "214    3.6\n",
       "215    3.5\n",
       "Name: UnRate, Length: 216, dtype: float64"
      ]
     },
     "execution_count": 2,
     "metadata": {},
     "output_type": "execute_result"
    }
   ],
   "source": [
    "#unemployment data array\n",
    "unemp = pd.read_csv(r'C:\\Users\\nik10\\Desktop\\iCloud new\\Self development\\Quant\\Projects\\Gradient Descent using Unemployment Rate & Vix/UNRATE.csv')\n",
    "unemp = unemp[(unemp['DATE'] >= '2005-01-01') & (unemp['DATE'] <= '2022-12-01')].reset_index(drop=True)\n",
    "unemp = unemp.rename({'DATE': 'Date','UNRATE':'UnRate'}, axis=1)\n",
    "unemp = unemp.UnRate\n",
    "unemp\n"
   ]
  },
  {
   "cell_type": "code",
   "execution_count": 3,
   "id": "b4697a36",
   "metadata": {},
   "outputs": [
    {
     "name": "stdout",
     "output_type": "stream",
     "text": [
      "[*********************100%***********************]  1 of 1 completed\n"
     ]
    },
    {
     "data": {
      "text/plain": [
       "0      13.438000\n",
       "1      11.708947\n",
       "2      13.126364\n",
       "3      14.459048\n",
       "4      13.967619\n",
       "         ...    \n",
       "211    22.169565\n",
       "212    27.406190\n",
       "213    30.005714\n",
       "214    23.436191\n",
       "215    21.784286\n",
       "Name: Close, Length: 216, dtype: float64"
      ]
     },
     "execution_count": 3,
     "metadata": {},
     "output_type": "execute_result"
    }
   ],
   "source": [
    "#Monthly vix array\n",
    "end = dt.datetime.now()\n",
    "start = dt.datetime(2005,1,1) \n",
    "vix = pdr.get_data_yahoo('^VIX',start, end)\n",
    "\n",
    "#Get monthly close average\n",
    "vix = vix.groupby(pd.Grouper(freq='MS'))['Close'].mean()\n",
    "\n",
    "#Convert to df, reset index, adjust time and select range\n",
    "vix = pd.DataFrame(vix, columns=['Close']).reset_index(drop=False)\n",
    "#vix['Date'] = vix['Date'].dt.strftime('%Y-%m-%d')\n",
    "vix = vix[(vix['Date'] >= '2005-01-01') & (vix['Date'] <= '2022-12-01')]\n",
    "\n",
    "#Select just Close column\n",
    "vix = vix.Close\n",
    "\n",
    "#pd.merge(unemp, vix, on='Date', how = 'inner') - merge vix and index under one dataframe if needed\n",
    "vix"
   ]
  },
  {
   "cell_type": "markdown",
   "id": "36949efc",
   "metadata": {},
   "source": [
    "## Plotting The data"
   ]
  },
  {
   "cell_type": "code",
   "execution_count": 4,
   "id": "766fbf6c",
   "metadata": {},
   "outputs": [
    {
     "data": {
      "image/png": "[encoded data removed]",
      "text/plain": [
       "<Figure size 640x480 with 1 Axes>"
      ]
     },
     "metadata": {},
     "output_type": "display_data"
    }
   ],
   "source": [
    "plt.scatter(unemp,vix,  marker='X', c='r')\n",
    "plt.title(\"Vix to Unemployment\")\n",
    "# Set the y-axis label\n",
    "plt.xlabel('Unemployment (%)')\n",
    "# Set the x-axis label\n",
    "plt.ylabel('^Vix Index')\n",
    "plt.show()"
   ]
  },
  {
   "cell_type": "markdown",
   "id": "6965a4d6",
   "metadata": {},
   "source": [
    "## Model the function for linear regression\n",
    "Model linear regression where Unemployment rate is the target \n",
    "<br>\n",
    "$x$ - unemployment (%)\n",
    "<br>\n",
    "$y$ - ^vix index\n",
    "<br>\n",
    "Training example targets and input: $x$ and $y$ as  `x_i`, `y_i`\n",
    "<br> $y^{(i)}$ notation is $i$ training example\n",
    "<br> $m$ - number of training examples\n",
    "<br>Unemployment is one of input variables as  $x^{(i)}$\n",
    "<br> $w$ - Gradient of linear regression function (model parameter 1)\n",
    "<br> $b$ - Constant of linear regression function (model parameter 2)\n",
    "<br> Regression function - $f_{w,b}(x^{(i)})= w*x^{(i)} + b$  "
   ]
  },
  {
   "cell_type": "code",
   "execution_count": 5,
   "id": "4b0fc871",
   "metadata": {},
   "outputs": [
    {
     "name": "stdout",
     "output_type": "stream",
     "text": [
      "Total number of training examples is: 216\n"
     ]
    }
   ],
   "source": [
    "x_train = unemp.to_numpy()\n",
    "y_train = vix.to_numpy()\n",
    "#print(f\"x_train = {x_train}\") - use to check\n",
    "#print(f\"y_train = {y_train}\")\n",
    "\n",
    "m = len(x_train)\n",
    "print(f\"Total number of training examples is: {m}\")"
   ]
  },
  {
   "cell_type": "code",
   "execution_count": 6,
   "id": "a54cd86e",
   "metadata": {
    "scrolled": true
   },
   "outputs": [
    {
     "name": "stdout",
     "output_type": "stream",
     "text": [
      "(x^(1), y^(1)) = (5.4, 11.708947482861971)\n"
     ]
    }
   ],
   "source": [
    "#check that training example responds to index\n",
    "i = 1\n",
    "\n",
    "x_i = x_train[i]\n",
    "y_i = y_train[i]\n",
    "print(f\"(x^({i}), y^({i})) = ({x_i}, {y_i})\")"
   ]
  },
  {
   "cell_type": "code",
   "execution_count": 15,
   "id": "7c78eee2",
   "metadata": {},
   "outputs": [
    {
     "data": {
      "text/plain": [
       "Text(0.5, 0, 'Unemployment')"
      ]
     },
     "execution_count": 15,
     "metadata": {},
     "output_type": "execute_result"
    },
    {
     "data": {
      "image/png": "[encoded data removed]",
      "text/plain": [
       "<Figure size 640x480 with 1 Axes>"
      ]
     },
     "metadata": {},
     "output_type": "display_data"
    }
   ],
   "source": [
    "# Plot the data points\n",
    "plt.scatter(x_train, y_train, marker='x', c='r',label='Actual Values')\n",
    "\n",
    "# Set the y-axis label\n",
    "plt.ylabel('Vix')\n",
    "# Set the x-axis label\n",
    "plt.xlabel('Unemployment')"
   ]
  },
  {
   "cell_type": "markdown",
   "id": "2009a26a",
   "metadata": {},
   "source": [
    "## Computing cost function for gradient descent\n",
    "Cost functions measures how well model predicts the target price of the house\n",
    "\n",
    "The equation for cost:\n",
    "  $$J(w,b) = \\frac{1}{2m} \\sum\\limits_{i = 0}^{m-1} (f_{w,b}(x^{(i)}) - y^{(i)})^2$$ \n",
    " \n",
    "where \n",
    "  $$f_{w,b}(x^{(i)}) = wx^{(i)} + b $$\n",
    "  \n",
    " $f_{w,b}(x^{(i)})$ is our prediction for example $i$ using parameters $w,b$.  \n",
    " $(f_{w,b}(x^{(i)}) -y^{(i)})^2$ is the squared difference between the target value and the prediction.   \n",
    " These differences are summed over all the $m$ examples and divided by `2m` to produce the cost, $J(w,b)$. \n",
    "\n",
    "Our goal is  $min J(w,b)$"
   ]
  },
  {
   "cell_type": "code",
   "execution_count": 7,
   "id": "1c149314",
   "metadata": {},
   "outputs": [],
   "source": [
    "def compute_model_output(x, y, w, b):\n",
    "    #main computation for linear regression - input x and w,b as model parameters, y as target value\n",
    "    m = x.shape[0]\n",
    "    \n",
    "    cost_sum = 0\n",
    "    f_wb = np.zeros(m) #create array of zeros with length m\n",
    "    for i in range(m):\n",
    "        f_wb[i] = w * x[i] + b\n",
    "        cost = (f_wb-y[i]) **2\n",
    "        cost_sum = cost_sum + cost\n",
    "    total_cost = (1/ (2*m))* cost_sum\n",
    "    return total_cost\n"
   ]
  },
  {
   "cell_type": "markdown",
   "id": "17d0e6bc",
   "metadata": {},
   "source": [
    "## Manual prediction\n",
    "<br> simple test to check that regression works"
   ]
  },
  {
   "cell_type": "code",
   "execution_count": 11,
   "id": "2c010bf0",
   "metadata": {},
   "outputs": [
    {
     "ename": "NameError",
     "evalue": "name 'w' is not defined",
     "output_type": "error",
     "traceback": [
      "\u001b[1;31m---------------------------------------------------------------------------\u001b[0m",
      "\u001b[1;31mNameError\u001b[0m                                 Traceback (most recent call last)",
      "\u001b[1;32m~\\AppData\\Local\\Temp\\ipykernel_17712\\1938878477.py\u001b[0m in \u001b[0;36m<module>\u001b[1;34m\u001b[0m\n\u001b[0;32m      1\u001b[0m \u001b[0mx_i\u001b[0m \u001b[1;33m=\u001b[0m \u001b[1;36m10\u001b[0m\u001b[1;33m\u001b[0m\u001b[1;33m\u001b[0m\u001b[0m\n\u001b[1;32m----> 2\u001b[1;33m \u001b[0mvix_prediction\u001b[0m \u001b[1;33m=\u001b[0m \u001b[0mw\u001b[0m \u001b[1;33m*\u001b[0m \u001b[0mx_i\u001b[0m \u001b[1;33m+\u001b[0m \u001b[0mb\u001b[0m\u001b[1;33m\u001b[0m\u001b[1;33m\u001b[0m\u001b[0m\n\u001b[0m\u001b[0;32m      3\u001b[0m \u001b[1;33m\u001b[0m\u001b[0m\n\u001b[0;32m      4\u001b[0m \u001b[0mprint\u001b[0m\u001b[1;33m(\u001b[0m\u001b[1;34mf\"{vix_prediction:0.1f} \"\u001b[0m\u001b[1;33m)\u001b[0m\u001b[1;33m\u001b[0m\u001b[1;33m\u001b[0m\u001b[0m\n",
      "\u001b[1;31mNameError\u001b[0m: name 'w' is not defined"
     ]
    }
   ],
   "source": [
    "x_i = 10\n",
    "vix_prediction = w * x_i + b    \n",
    "\n",
    "print(f\"{vix_prediction:0.1f} \")"
   ]
  },
  {
   "cell_type": "markdown",
   "id": "131ab32b",
   "metadata": {},
   "source": [
    "## Computing cost function for gradient descent\n",
    "Cost functions measures how well model predicts the target price of the house"
   ]
  },
  {
   "cell_type": "code",
   "execution_count": null,
   "id": "1a87b785",
   "metadata": {},
   "outputs": [],
   "source": []
  },
  {
   "cell_type": "code",
   "execution_count": null,
   "id": "6ba6f219",
   "metadata": {},
   "outputs": [],
   "source": []
  }
 ],
 "metadata": {
  "kernelspec": {
   "display_name": "Python 3 (ipykernel)",
   "language": "python",
   "name": "python3"
  },
  "language_info": {
   "codemirror_mode": {
    "name": "ipython",
    "version": 3
   },
   "file_extension": ".py",
   "mimetype": "text/x-python",
   "name": "python",
   "nbconvert_exporter": "python",
   "pygments_lexer": "ipython3",
   "version": "3.9.13"
  }
 },
 "nbformat": 4,
 "nbformat_minor": 5
}
